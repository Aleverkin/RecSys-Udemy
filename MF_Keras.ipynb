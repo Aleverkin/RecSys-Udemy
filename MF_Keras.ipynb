{
 "cells": [
  {
   "cell_type": "code",
   "execution_count": 1,
   "id": "athletic-second",
   "metadata": {},
   "outputs": [
    {
     "data": {
      "text/plain": [
       "'2.1.0'"
      ]
     },
     "execution_count": 1,
     "metadata": {},
     "output_type": "execute_result"
    }
   ],
   "source": [
    "import tensorflow as tf\n",
    "tf.__version__"
   ]
  },
  {
   "cell_type": "code",
   "execution_count": 1,
   "id": "competitive-cleaning",
   "metadata": {},
   "outputs": [],
   "source": [
    "from tensorflow.keras.layers import Embedding, Dot, Add, Flatten, Reshape\n",
    "from tensorflow import keras\n",
    "import pandas as pd\n",
    "import numpy as np\n",
    "import pickle"
   ]
  },
  {
   "cell_type": "code",
   "execution_count": 91,
   "id": "governing-tourist",
   "metadata": {},
   "outputs": [],
   "source": [
    "with open('matrixfactorizing_als_me/urm_sparse.pkl', 'rb') as f:\n",
    "    train = pickle.load(f)"
   ]
  },
  {
   "cell_type": "code",
   "execution_count": 92,
   "id": "configured-istanbul",
   "metadata": {},
   "outputs": [],
   "source": [
    "with open('matrixfactorizing_als_me/urm_sparse_test.pkl', 'rb') as f:\n",
    "    test = pickle.load(f)"
   ]
  },
  {
   "cell_type": "code",
   "execution_count": 77,
   "id": "mature-atlanta",
   "metadata": {},
   "outputs": [],
   "source": [
    "users = train.nonzero()[0]\n",
    "movies = train.nonzero()[1]"
   ]
  },
  {
   "cell_type": "code",
   "execution_count": 82,
   "id": "intensive-heating",
   "metadata": {},
   "outputs": [],
   "source": [
    "users_test = test.nonzero()[0]\n",
    "movies_test = test.nonzero()[1]"
   ]
  },
  {
   "cell_type": "code",
   "execution_count": 78,
   "id": "reflected-reading",
   "metadata": {},
   "outputs": [],
   "source": [
    "N = np.unique(users).shape[0] \n",
    "M = np.unique(movies).shape[0]"
   ]
  },
  {
   "cell_type": "code",
   "execution_count": 79,
   "id": "cognitive-entertainment",
   "metadata": {},
   "outputs": [
    {
     "data": {
      "text/plain": [
       "((5566601,), (5566601,))"
      ]
     },
     "execution_count": 79,
     "metadata": {},
     "output_type": "execute_result"
    }
   ],
   "source": [
    "users.shape, movies.shape"
   ]
  },
  {
   "cell_type": "code",
   "execution_count": 90,
   "id": "adapted-attendance",
   "metadata": {},
   "outputs": [
    {
     "data": {
      "text/plain": [
       "((281497,), (281497,))"
      ]
     },
     "execution_count": 90,
     "metadata": {},
     "output_type": "execute_result"
    }
   ],
   "source": [
    "users_test.shape, movies_test.shape"
   ]
  },
  {
   "cell_type": "code",
   "execution_count": 93,
   "id": "skilled-penalty",
   "metadata": {},
   "outputs": [],
   "source": [
    "mu = 3.383387277083448\n",
    "\n",
    "train.data -= mu\n",
    "test.data -= mu"
   ]
  },
  {
   "cell_type": "code",
   "execution_count": 94,
   "id": "falling-coaching",
   "metadata": {},
   "outputs": [],
   "source": [
    "#size latent space\n",
    "K=10"
   ]
  },
  {
   "cell_type": "code",
   "execution_count": 95,
   "id": "vertical-snake",
   "metadata": {},
   "outputs": [],
   "source": [
    "targets = train.data\n",
    "vals = test.data"
   ]
  },
  {
   "cell_type": "code",
   "execution_count": 96,
   "id": "announced-might",
   "metadata": {},
   "outputs": [
    {
     "data": {
      "text/plain": [
       "((5566601,), (281497,))"
      ]
     },
     "execution_count": 96,
     "metadata": {},
     "output_type": "execute_result"
    }
   ],
   "source": [
    "targets.shape, vals.shape"
   ]
  },
  {
   "cell_type": "code",
   "execution_count": null,
   "id": "surface-joseph",
   "metadata": {},
   "outputs": [],
   "source": []
  },
  {
   "cell_type": "code",
   "execution_count": 98,
   "id": "verbal-awareness",
   "metadata": {},
   "outputs": [],
   "source": [
    "u = keras.Input(shape=(None,))\n",
    "m = keras.Input(shape=(None,))"
   ]
  },
  {
   "cell_type": "code",
   "execution_count": 99,
   "id": "flexible-intranet",
   "metadata": {},
   "outputs": [
    {
     "data": {
      "text/plain": [
       "(TensorShape([None, None]), TensorShape([None, None]))"
      ]
     },
     "execution_count": 99,
     "metadata": {},
     "output_type": "execute_result"
    }
   ],
   "source": [
    "u.shape, m.shape"
   ]
  },
  {
   "cell_type": "code",
   "execution_count": 100,
   "id": "indian-bahrain",
   "metadata": {
    "scrolled": true
   },
   "outputs": [],
   "source": [
    "e_u = Embedding(input_dim=N, output_dim=K)(u)\n",
    "e_m = Embedding(input_dim=M, output_dim=K)(m)"
   ]
  },
  {
   "cell_type": "code",
   "execution_count": 101,
   "id": "announced-counter",
   "metadata": {},
   "outputs": [
    {
     "data": {
      "text/plain": [
       "(TensorShape([None, None, 10]), TensorShape([None, None, 10]))"
      ]
     },
     "execution_count": 101,
     "metadata": {},
     "output_type": "execute_result"
    }
   ],
   "source": [
    "e_u.shape, e_m.shape"
   ]
  },
  {
   "cell_type": "code",
   "execution_count": null,
   "id": "narrow-nudist",
   "metadata": {},
   "outputs": [],
   "source": []
  },
  {
   "cell_type": "code",
   "execution_count": 102,
   "id": "guided-elephant",
   "metadata": {},
   "outputs": [],
   "source": [
    "bias_u = Embedding(N, 1)(u)\n",
    "bias_m = Embedding(M, 1)(m)"
   ]
  },
  {
   "cell_type": "code",
   "execution_count": 103,
   "id": "incomplete-lotus",
   "metadata": {},
   "outputs": [
    {
     "data": {
      "text/plain": [
       "(TensorShape([None, None, 1]), TensorShape([None, None, 1]))"
      ]
     },
     "execution_count": 103,
     "metadata": {},
     "output_type": "execute_result"
    }
   ],
   "source": [
    "bias_u.shape, bias_m.shape"
   ]
  },
  {
   "cell_type": "code",
   "execution_count": 104,
   "id": "processed-department",
   "metadata": {},
   "outputs": [],
   "source": [
    "#bias_m_resh = Reshape((1, M), input_shape=(M,1))(bias_m)"
   ]
  },
  {
   "cell_type": "code",
   "execution_count": 105,
   "id": "rational-illustration",
   "metadata": {},
   "outputs": [
    {
     "data": {
      "text/plain": [
       "TensorShape([None, 1, 4237])"
      ]
     },
     "execution_count": 105,
     "metadata": {},
     "output_type": "execute_result"
    }
   ],
   "source": [
    "bias_m_resh.shape"
   ]
  },
  {
   "cell_type": "code",
   "execution_count": 106,
   "id": "serial-swimming",
   "metadata": {},
   "outputs": [],
   "source": [
    "r = Dot(axes=2)([e_u, e_m])"
   ]
  },
  {
   "cell_type": "code",
   "execution_count": 107,
   "id": "funded-tiffany",
   "metadata": {},
   "outputs": [
    {
     "data": {
      "text/plain": [
       "TensorShape([None, None, None])"
      ]
     },
     "execution_count": 107,
     "metadata": {},
     "output_type": "execute_result"
    }
   ],
   "source": [
    "r.shape"
   ]
  },
  {
   "cell_type": "code",
   "execution_count": 108,
   "id": "solar-champion",
   "metadata": {
    "scrolled": true
   },
   "outputs": [],
   "source": [
    "r = Add()([r, bias_u, bias_m])"
   ]
  },
  {
   "cell_type": "code",
   "execution_count": 109,
   "id": "listed-nudist",
   "metadata": {},
   "outputs": [
    {
     "data": {
      "text/plain": [
       "TensorShape([None, None, None])"
      ]
     },
     "execution_count": 109,
     "metadata": {},
     "output_type": "execute_result"
    }
   ],
   "source": [
    "r.shape"
   ]
  },
  {
   "cell_type": "code",
   "execution_count": 110,
   "id": "brazilian-entry",
   "metadata": {
    "scrolled": true
   },
   "outputs": [],
   "source": [
    "model = keras.Model(inputs=[u,m], outputs=r)\n",
    "model.compile(loss='mse', optimizer='sgd', metrics=['mse'])"
   ]
  },
  {
   "cell_type": "code",
   "execution_count": 111,
   "id": "monetary-flooring",
   "metadata": {},
   "outputs": [
    {
     "data": {
      "text/plain": [
       "(5566601,)"
      ]
     },
     "execution_count": 111,
     "metadata": {},
     "output_type": "execute_result"
    }
   ],
   "source": [
    "users.shape"
   ]
  },
  {
   "cell_type": "code",
   "execution_count": 113,
   "id": "spectacular-darkness",
   "metadata": {
    "scrolled": true
   },
   "outputs": [
    {
     "name": "stdout",
     "output_type": "stream",
     "text": [
      "Train on 5566601 samples, validate on 281497 samples\n",
      "5566601/5566601 [==============================] - 589s 106us/sample - loss: 0.8816 - mse: 0.8816 - val_loss: 0.7434 - val_mse: 0.7434\n"
     ]
    },
    {
     "ename": "NameError",
     "evalue": "name 'plot' is not defined",
     "output_type": "error",
     "traceback": [
      "\u001b[1;31m---------------------------------------------------------------------------\u001b[0m",
      "\u001b[1;31mNameError\u001b[0m                                 Traceback (most recent call last)",
      "\u001b[1;32m<ipython-input-113-c44698a2172b>\u001b[0m in \u001b[0;36m<module>\u001b[1;34m\u001b[0m\n\u001b[0;32m      1\u001b[0m \u001b[0mloss\u001b[0m \u001b[1;33m=\u001b[0m \u001b[0mmodel\u001b[0m\u001b[1;33m.\u001b[0m\u001b[0mfit\u001b[0m\u001b[1;33m(\u001b[0m\u001b[0mx\u001b[0m\u001b[1;33m=\u001b[0m\u001b[1;33m[\u001b[0m\u001b[0musers\u001b[0m\u001b[1;33m,\u001b[0m \u001b[0mmovies\u001b[0m\u001b[1;33m]\u001b[0m\u001b[1;33m,\u001b[0m \u001b[0my\u001b[0m\u001b[1;33m=\u001b[0m\u001b[0mtargets\u001b[0m\u001b[1;33m,\u001b[0m \u001b[0mepochs\u001b[0m\u001b[1;33m=\u001b[0m\u001b[1;36m1\u001b[0m\u001b[1;33m,\u001b[0m \u001b[0mvalidation_data\u001b[0m\u001b[1;33m=\u001b[0m\u001b[1;33m(\u001b[0m\u001b[1;33m[\u001b[0m\u001b[0musers_test\u001b[0m\u001b[1;33m,\u001b[0m \u001b[0mmovies_test\u001b[0m\u001b[1;33m]\u001b[0m\u001b[1;33m,\u001b[0m \u001b[0mvals\u001b[0m\u001b[1;33m)\u001b[0m\u001b[1;33m)\u001b[0m\u001b[1;33m\u001b[0m\u001b[1;33m\u001b[0m\u001b[0m\n\u001b[1;32m----> 2\u001b[1;33m \u001b[0mplot\u001b[0m\u001b[1;33m(\u001b[0m\u001b[0mloss\u001b[0m\u001b[1;33m)\u001b[0m\u001b[1;33m\u001b[0m\u001b[1;33m\u001b[0m\u001b[0m\n\u001b[0m",
      "\u001b[1;31mNameError\u001b[0m: name 'plot' is not defined"
     ]
    }
   ],
   "source": [
    "loss = model.fit(x=[users, movies], y=targets, epochs=1, validation_data=([users_test, movies_test], vals))\n",
    "plot(loss)"
   ]
  },
  {
   "cell_type": "code",
   "execution_count": 114,
   "id": "regular-loading",
   "metadata": {},
   "outputs": [
    {
     "data": {
      "text/plain": [
       "array([-0.38338733,  1.6166127 ,  0.6166127 , ..., -1.3833873 ,\n",
       "       -0.38338733, -1.8833873 ], dtype=float32)"
      ]
     },
     "execution_count": 114,
     "metadata": {},
     "output_type": "execute_result"
    }
   ],
   "source": [
    "targets"
   ]
  },
  {
   "cell_type": "code",
   "execution_count": 115,
   "id": "peripheral-perry",
   "metadata": {},
   "outputs": [
    {
     "data": {
      "text/plain": [
       "array([-0.38338733,  0.6166127 ,  0.6166127 , ...,  0.6166127 ,\n",
       "       -0.8833873 ,  0.11661267], dtype=float32)"
      ]
     },
     "execution_count": 115,
     "metadata": {},
     "output_type": "execute_result"
    }
   ],
   "source": [
    "vals"
   ]
  }
 ],
 "metadata": {
  "kernelspec": {
   "display_name": "tf21",
   "language": "python",
   "name": "tf21"
  },
  "language_info": {
   "codemirror_mode": {
    "name": "ipython",
    "version": 3
   },
   "file_extension": ".py",
   "mimetype": "text/x-python",
   "name": "python",
   "nbconvert_exporter": "python",
   "pygments_lexer": "ipython3",
   "version": "3.7.7"
  }
 },
 "nbformat": 4,
 "nbformat_minor": 5
}
