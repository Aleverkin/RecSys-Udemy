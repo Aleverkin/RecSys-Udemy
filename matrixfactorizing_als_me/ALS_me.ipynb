{
 "cells": [
  {
   "cell_type": "code",
   "execution_count": 227,
   "metadata": {},
   "outputs": [
    {
     "name": "stdout",
     "output_type": "stream",
     "text": [
      "Populating the interactive namespace from numpy and matplotlib\n"
     ]
    },
    {
     "name": "stderr",
     "output_type": "stream",
     "text": [
      "C:\\ProgramData\\Anaconda3\\lib\\site-packages\\IPython\\core\\magics\\pylab.py:160: UserWarning: pylab import has clobbered these variables: ['f', 'datetime', 'norm', 'indices', 'test']\n",
      "`%matplotlib` prevents importing * from pylab and numpy\n",
      "  \"\\n`%matplotlib` prevents importing * from pylab and numpy\"\n"
     ]
    }
   ],
   "source": [
    "import pandas as pd\n",
    "import numpy as np\n",
    "\n",
    "%pylab inline"
   ]
  },
  {
   "cell_type": "code",
   "execution_count": 228,
   "metadata": {},
   "outputs": [],
   "source": [
    "train = pd.read_parquet('../datamovies/train.parquet')"
   ]
  },
  {
   "cell_type": "code",
   "execution_count": 229,
   "metadata": {},
   "outputs": [],
   "source": [
    "test = pd.read_parquet('../datamovies/test.parquet')"
   ]
  },
  {
   "cell_type": "code",
   "execution_count": 230,
   "metadata": {},
   "outputs": [
    {
     "data": {
      "text/html": [
       "<div>\n",
       "<style scoped>\n",
       "    .dataframe tbody tr th:only-of-type {\n",
       "        vertical-align: middle;\n",
       "    }\n",
       "\n",
       "    .dataframe tbody tr th {\n",
       "        vertical-align: top;\n",
       "    }\n",
       "\n",
       "    .dataframe thead th {\n",
       "        text-align: right;\n",
       "    }\n",
       "</style>\n",
       "<table border=\"1\" class=\"dataframe\">\n",
       "  <thead>\n",
       "    <tr style=\"text-align: right;\">\n",
       "      <th></th>\n",
       "      <th>rating</th>\n",
       "      <th>date</th>\n",
       "      <th>userId</th>\n",
       "      <th>movieId</th>\n",
       "    </tr>\n",
       "  </thead>\n",
       "  <tbody>\n",
       "    <tr>\n",
       "      <th>0</th>\n",
       "      <td>3.0</td>\n",
       "      <td>2000-11-22</td>\n",
       "      <td>0</td>\n",
       "      <td>0</td>\n",
       "    </tr>\n",
       "    <tr>\n",
       "      <th>1</th>\n",
       "      <td>5.0</td>\n",
       "      <td>2000-11-21</td>\n",
       "      <td>0</td>\n",
       "      <td>1</td>\n",
       "    </tr>\n",
       "    <tr>\n",
       "      <th>2</th>\n",
       "      <td>4.0</td>\n",
       "      <td>2000-11-21</td>\n",
       "      <td>0</td>\n",
       "      <td>2</td>\n",
       "    </tr>\n",
       "    <tr>\n",
       "      <th>3</th>\n",
       "      <td>4.0</td>\n",
       "      <td>2000-11-21</td>\n",
       "      <td>0</td>\n",
       "      <td>3</td>\n",
       "    </tr>\n",
       "    <tr>\n",
       "      <th>4</th>\n",
       "      <td>5.0</td>\n",
       "      <td>2000-11-21</td>\n",
       "      <td>0</td>\n",
       "      <td>4</td>\n",
       "    </tr>\n",
       "  </tbody>\n",
       "</table>\n",
       "</div>"
      ],
      "text/plain": [
       "   rating        date  userId  movieId\n",
       "0     3.0  2000-11-22       0        0\n",
       "1     5.0  2000-11-21       0        1\n",
       "2     4.0  2000-11-21       0        2\n",
       "3     4.0  2000-11-21       0        3\n",
       "4     5.0  2000-11-21       0        4"
      ]
     },
     "execution_count": 230,
     "metadata": {},
     "output_type": "execute_result"
    }
   ],
   "source": [
    "train.head()"
   ]
  },
  {
   "cell_type": "code",
   "execution_count": 231,
   "metadata": {},
   "outputs": [
    {
     "data": {
      "text/plain": [
       "(5566601, 4)"
      ]
     },
     "execution_count": 231,
     "metadata": {},
     "output_type": "execute_result"
    }
   ],
   "source": [
    "train.shape"
   ]
  },
  {
   "cell_type": "code",
   "execution_count": 232,
   "metadata": {},
   "outputs": [
    {
     "data": {
      "text/plain": [
       "(281497, 4)"
      ]
     },
     "execution_count": 232,
     "metadata": {},
     "output_type": "execute_result"
    }
   ],
   "source": [
    "test.shape"
   ]
  },
  {
   "cell_type": "code",
   "execution_count": 233,
   "metadata": {
    "scrolled": true
   },
   "outputs": [
    {
     "data": {
      "text/html": [
       "<div>\n",
       "<style scoped>\n",
       "    .dataframe tbody tr th:only-of-type {\n",
       "        vertical-align: middle;\n",
       "    }\n",
       "\n",
       "    .dataframe tbody tr th {\n",
       "        vertical-align: top;\n",
       "    }\n",
       "\n",
       "    .dataframe thead th {\n",
       "        text-align: right;\n",
       "    }\n",
       "</style>\n",
       "<table border=\"1\" class=\"dataframe\">\n",
       "  <thead>\n",
       "    <tr style=\"text-align: right;\">\n",
       "      <th></th>\n",
       "      <th>rating</th>\n",
       "      <th>date</th>\n",
       "      <th>userId</th>\n",
       "      <th>movieId</th>\n",
       "    </tr>\n",
       "  </thead>\n",
       "  <tbody>\n",
       "    <tr>\n",
       "      <th>0</th>\n",
       "      <td>3.0</td>\n",
       "      <td>2011-10-29</td>\n",
       "      <td>6</td>\n",
       "      <td>8</td>\n",
       "    </tr>\n",
       "    <tr>\n",
       "      <th>1</th>\n",
       "      <td>4.0</td>\n",
       "      <td>2010-09-22</td>\n",
       "      <td>60</td>\n",
       "      <td>8</td>\n",
       "    </tr>\n",
       "    <tr>\n",
       "      <th>2</th>\n",
       "      <td>4.5</td>\n",
       "      <td>2013-12-24</td>\n",
       "      <td>133</td>\n",
       "      <td>8</td>\n",
       "    </tr>\n",
       "    <tr>\n",
       "      <th>3</th>\n",
       "      <td>3.5</td>\n",
       "      <td>2010-10-15</td>\n",
       "      <td>140</td>\n",
       "      <td>8</td>\n",
       "    </tr>\n",
       "    <tr>\n",
       "      <th>4</th>\n",
       "      <td>3.5</td>\n",
       "      <td>2013-04-08</td>\n",
       "      <td>153</td>\n",
       "      <td>8</td>\n",
       "    </tr>\n",
       "    <tr>\n",
       "      <th>5</th>\n",
       "      <td>2.0</td>\n",
       "      <td>2013-05-08</td>\n",
       "      <td>246</td>\n",
       "      <td>8</td>\n",
       "    </tr>\n",
       "    <tr>\n",
       "      <th>6</th>\n",
       "      <td>4.0</td>\n",
       "      <td>2010-03-13</td>\n",
       "      <td>458</td>\n",
       "      <td>8</td>\n",
       "    </tr>\n",
       "    <tr>\n",
       "      <th>7</th>\n",
       "      <td>3.5</td>\n",
       "      <td>2011-08-30</td>\n",
       "      <td>537</td>\n",
       "      <td>8</td>\n",
       "    </tr>\n",
       "    <tr>\n",
       "      <th>8</th>\n",
       "      <td>4.5</td>\n",
       "      <td>2010-05-23</td>\n",
       "      <td>687</td>\n",
       "      <td>8</td>\n",
       "    </tr>\n",
       "    <tr>\n",
       "      <th>9</th>\n",
       "      <td>1.5</td>\n",
       "      <td>2010-04-11</td>\n",
       "      <td>791</td>\n",
       "      <td>8</td>\n",
       "    </tr>\n",
       "    <tr>\n",
       "      <th>10</th>\n",
       "      <td>3.5</td>\n",
       "      <td>2011-02-22</td>\n",
       "      <td>810</td>\n",
       "      <td>8</td>\n",
       "    </tr>\n",
       "    <tr>\n",
       "      <th>11</th>\n",
       "      <td>3.0</td>\n",
       "      <td>2010-01-02</td>\n",
       "      <td>847</td>\n",
       "      <td>8</td>\n",
       "    </tr>\n",
       "    <tr>\n",
       "      <th>12</th>\n",
       "      <td>5.0</td>\n",
       "      <td>2013-07-19</td>\n",
       "      <td>857</td>\n",
       "      <td>8</td>\n",
       "    </tr>\n",
       "    <tr>\n",
       "      <th>13</th>\n",
       "      <td>4.0</td>\n",
       "      <td>2010-09-20</td>\n",
       "      <td>943</td>\n",
       "      <td>8</td>\n",
       "    </tr>\n",
       "    <tr>\n",
       "      <th>14</th>\n",
       "      <td>3.0</td>\n",
       "      <td>2010-03-26</td>\n",
       "      <td>1138</td>\n",
       "      <td>8</td>\n",
       "    </tr>\n",
       "    <tr>\n",
       "      <th>15</th>\n",
       "      <td>2.0</td>\n",
       "      <td>2011-08-07</td>\n",
       "      <td>1204</td>\n",
       "      <td>8</td>\n",
       "    </tr>\n",
       "    <tr>\n",
       "      <th>16</th>\n",
       "      <td>3.0</td>\n",
       "      <td>2010-04-02</td>\n",
       "      <td>1244</td>\n",
       "      <td>8</td>\n",
       "    </tr>\n",
       "    <tr>\n",
       "      <th>17</th>\n",
       "      <td>2.5</td>\n",
       "      <td>2013-11-18</td>\n",
       "      <td>1289</td>\n",
       "      <td>8</td>\n",
       "    </tr>\n",
       "    <tr>\n",
       "      <th>18</th>\n",
       "      <td>4.0</td>\n",
       "      <td>2013-10-19</td>\n",
       "      <td>1317</td>\n",
       "      <td>8</td>\n",
       "    </tr>\n",
       "    <tr>\n",
       "      <th>19</th>\n",
       "      <td>4.0</td>\n",
       "      <td>2013-01-29</td>\n",
       "      <td>1335</td>\n",
       "      <td>8</td>\n",
       "    </tr>\n",
       "    <tr>\n",
       "      <th>20</th>\n",
       "      <td>4.0</td>\n",
       "      <td>2013-01-13</td>\n",
       "      <td>1338</td>\n",
       "      <td>8</td>\n",
       "    </tr>\n",
       "    <tr>\n",
       "      <th>21</th>\n",
       "      <td>3.0</td>\n",
       "      <td>2012-11-18</td>\n",
       "      <td>1342</td>\n",
       "      <td>8</td>\n",
       "    </tr>\n",
       "    <tr>\n",
       "      <th>22</th>\n",
       "      <td>3.5</td>\n",
       "      <td>2012-04-11</td>\n",
       "      <td>1357</td>\n",
       "      <td>8</td>\n",
       "    </tr>\n",
       "    <tr>\n",
       "      <th>23</th>\n",
       "      <td>4.5</td>\n",
       "      <td>2010-01-21</td>\n",
       "      <td>1446</td>\n",
       "      <td>8</td>\n",
       "    </tr>\n",
       "    <tr>\n",
       "      <th>24</th>\n",
       "      <td>3.0</td>\n",
       "      <td>2011-06-09</td>\n",
       "      <td>1532</td>\n",
       "      <td>8</td>\n",
       "    </tr>\n",
       "    <tr>\n",
       "      <th>25</th>\n",
       "      <td>3.0</td>\n",
       "      <td>2011-08-01</td>\n",
       "      <td>1564</td>\n",
       "      <td>8</td>\n",
       "    </tr>\n",
       "    <tr>\n",
       "      <th>26</th>\n",
       "      <td>3.5</td>\n",
       "      <td>2010-05-15</td>\n",
       "      <td>1588</td>\n",
       "      <td>8</td>\n",
       "    </tr>\n",
       "    <tr>\n",
       "      <th>27</th>\n",
       "      <td>3.0</td>\n",
       "      <td>2011-01-04</td>\n",
       "      <td>1618</td>\n",
       "      <td>8</td>\n",
       "    </tr>\n",
       "    <tr>\n",
       "      <th>28</th>\n",
       "      <td>3.0</td>\n",
       "      <td>2010-10-06</td>\n",
       "      <td>1630</td>\n",
       "      <td>8</td>\n",
       "    </tr>\n",
       "    <tr>\n",
       "      <th>29</th>\n",
       "      <td>2.5</td>\n",
       "      <td>2012-12-29</td>\n",
       "      <td>1676</td>\n",
       "      <td>8</td>\n",
       "    </tr>\n",
       "    <tr>\n",
       "      <th>30</th>\n",
       "      <td>4.0</td>\n",
       "      <td>2012-09-22</td>\n",
       "      <td>1678</td>\n",
       "      <td>8</td>\n",
       "    </tr>\n",
       "    <tr>\n",
       "      <th>31</th>\n",
       "      <td>5.0</td>\n",
       "      <td>2012-07-17</td>\n",
       "      <td>1727</td>\n",
       "      <td>8</td>\n",
       "    </tr>\n",
       "    <tr>\n",
       "      <th>32</th>\n",
       "      <td>3.5</td>\n",
       "      <td>2010-01-17</td>\n",
       "      <td>1732</td>\n",
       "      <td>8</td>\n",
       "    </tr>\n",
       "    <tr>\n",
       "      <th>33</th>\n",
       "      <td>3.0</td>\n",
       "      <td>2010-05-28</td>\n",
       "      <td>1742</td>\n",
       "      <td>8</td>\n",
       "    </tr>\n",
       "    <tr>\n",
       "      <th>34</th>\n",
       "      <td>3.0</td>\n",
       "      <td>2014-12-28</td>\n",
       "      <td>1751</td>\n",
       "      <td>8</td>\n",
       "    </tr>\n",
       "    <tr>\n",
       "      <th>35</th>\n",
       "      <td>3.0</td>\n",
       "      <td>2010-07-06</td>\n",
       "      <td>1775</td>\n",
       "      <td>8</td>\n",
       "    </tr>\n",
       "    <tr>\n",
       "      <th>36</th>\n",
       "      <td>4.0</td>\n",
       "      <td>2011-12-23</td>\n",
       "      <td>1796</td>\n",
       "      <td>8</td>\n",
       "    </tr>\n",
       "    <tr>\n",
       "      <th>37</th>\n",
       "      <td>3.5</td>\n",
       "      <td>2010-09-18</td>\n",
       "      <td>1834</td>\n",
       "      <td>8</td>\n",
       "    </tr>\n",
       "    <tr>\n",
       "      <th>38</th>\n",
       "      <td>3.0</td>\n",
       "      <td>2013-01-15</td>\n",
       "      <td>1918</td>\n",
       "      <td>8</td>\n",
       "    </tr>\n",
       "    <tr>\n",
       "      <th>39</th>\n",
       "      <td>4.0</td>\n",
       "      <td>2014-02-12</td>\n",
       "      <td>1939</td>\n",
       "      <td>8</td>\n",
       "    </tr>\n",
       "    <tr>\n",
       "      <th>40</th>\n",
       "      <td>3.0</td>\n",
       "      <td>2011-03-18</td>\n",
       "      <td>2010</td>\n",
       "      <td>8</td>\n",
       "    </tr>\n",
       "    <tr>\n",
       "      <th>41</th>\n",
       "      <td>3.5</td>\n",
       "      <td>2011-05-15</td>\n",
       "      <td>2055</td>\n",
       "      <td>8</td>\n",
       "    </tr>\n",
       "    <tr>\n",
       "      <th>42</th>\n",
       "      <td>4.0</td>\n",
       "      <td>2011-07-06</td>\n",
       "      <td>2144</td>\n",
       "      <td>8</td>\n",
       "    </tr>\n",
       "    <tr>\n",
       "      <th>43</th>\n",
       "      <td>3.5</td>\n",
       "      <td>2012-02-27</td>\n",
       "      <td>2183</td>\n",
       "      <td>8</td>\n",
       "    </tr>\n",
       "    <tr>\n",
       "      <th>44</th>\n",
       "      <td>2.5</td>\n",
       "      <td>2010-03-21</td>\n",
       "      <td>2225</td>\n",
       "      <td>8</td>\n",
       "    </tr>\n",
       "    <tr>\n",
       "      <th>45</th>\n",
       "      <td>4.0</td>\n",
       "      <td>2010-01-03</td>\n",
       "      <td>2275</td>\n",
       "      <td>8</td>\n",
       "    </tr>\n",
       "    <tr>\n",
       "      <th>46</th>\n",
       "      <td>3.5</td>\n",
       "      <td>2011-07-02</td>\n",
       "      <td>2302</td>\n",
       "      <td>8</td>\n",
       "    </tr>\n",
       "    <tr>\n",
       "      <th>47</th>\n",
       "      <td>4.0</td>\n",
       "      <td>2014-02-07</td>\n",
       "      <td>2333</td>\n",
       "      <td>8</td>\n",
       "    </tr>\n",
       "    <tr>\n",
       "      <th>48</th>\n",
       "      <td>3.0</td>\n",
       "      <td>2012-03-19</td>\n",
       "      <td>2384</td>\n",
       "      <td>8</td>\n",
       "    </tr>\n",
       "    <tr>\n",
       "      <th>49</th>\n",
       "      <td>3.5</td>\n",
       "      <td>2010-09-25</td>\n",
       "      <td>2494</td>\n",
       "      <td>8</td>\n",
       "    </tr>\n",
       "  </tbody>\n",
       "</table>\n",
       "</div>"
      ],
      "text/plain": [
       "    rating        date  userId  movieId\n",
       "0      3.0  2011-10-29       6        8\n",
       "1      4.0  2010-09-22      60        8\n",
       "2      4.5  2013-12-24     133        8\n",
       "3      3.5  2010-10-15     140        8\n",
       "4      3.5  2013-04-08     153        8\n",
       "5      2.0  2013-05-08     246        8\n",
       "6      4.0  2010-03-13     458        8\n",
       "7      3.5  2011-08-30     537        8\n",
       "8      4.5  2010-05-23     687        8\n",
       "9      1.5  2010-04-11     791        8\n",
       "10     3.5  2011-02-22     810        8\n",
       "11     3.0  2010-01-02     847        8\n",
       "12     5.0  2013-07-19     857        8\n",
       "13     4.0  2010-09-20     943        8\n",
       "14     3.0  2010-03-26    1138        8\n",
       "15     2.0  2011-08-07    1204        8\n",
       "16     3.0  2010-04-02    1244        8\n",
       "17     2.5  2013-11-18    1289        8\n",
       "18     4.0  2013-10-19    1317        8\n",
       "19     4.0  2013-01-29    1335        8\n",
       "20     4.0  2013-01-13    1338        8\n",
       "21     3.0  2012-11-18    1342        8\n",
       "22     3.5  2012-04-11    1357        8\n",
       "23     4.5  2010-01-21    1446        8\n",
       "24     3.0  2011-06-09    1532        8\n",
       "25     3.0  2011-08-01    1564        8\n",
       "26     3.5  2010-05-15    1588        8\n",
       "27     3.0  2011-01-04    1618        8\n",
       "28     3.0  2010-10-06    1630        8\n",
       "29     2.5  2012-12-29    1676        8\n",
       "30     4.0  2012-09-22    1678        8\n",
       "31     5.0  2012-07-17    1727        8\n",
       "32     3.5  2010-01-17    1732        8\n",
       "33     3.0  2010-05-28    1742        8\n",
       "34     3.0  2014-12-28    1751        8\n",
       "35     3.0  2010-07-06    1775        8\n",
       "36     4.0  2011-12-23    1796        8\n",
       "37     3.5  2010-09-18    1834        8\n",
       "38     3.0  2013-01-15    1918        8\n",
       "39     4.0  2014-02-12    1939        8\n",
       "40     3.0  2011-03-18    2010        8\n",
       "41     3.5  2011-05-15    2055        8\n",
       "42     4.0  2011-07-06    2144        8\n",
       "43     3.5  2012-02-27    2183        8\n",
       "44     2.5  2010-03-21    2225        8\n",
       "45     4.0  2010-01-03    2275        8\n",
       "46     3.5  2011-07-02    2302        8\n",
       "47     4.0  2014-02-07    2333        8\n",
       "48     3.0  2012-03-19    2384        8\n",
       "49     3.5  2010-09-25    2494        8"
      ]
     },
     "execution_count": 233,
     "metadata": {},
     "output_type": "execute_result"
    }
   ],
   "source": [
    "test.head(50)"
   ]
  },
  {
   "cell_type": "code",
   "execution_count": 234,
   "metadata": {},
   "outputs": [
    {
     "data": {
      "text/plain": [
       "3.383387277083448"
      ]
     },
     "execution_count": 234,
     "metadata": {},
     "output_type": "execute_result"
    }
   ],
   "source": [
    "#calc global average\n",
    "mu = train['rating'].mean()\n",
    "mu"
   ]
  },
  {
   "cell_type": "code",
   "execution_count": 235,
   "metadata": {},
   "outputs": [
    {
     "data": {
      "text/plain": [
       "((8481,), (4237,))"
      ]
     },
     "execution_count": 235,
     "metadata": {},
     "output_type": "execute_result"
    }
   ],
   "source": [
    "train['userId'].unique().shape, train['movieId'].unique().shape"
   ]
  },
  {
   "cell_type": "code",
   "execution_count": 236,
   "metadata": {},
   "outputs": [
    {
     "data": {
      "text/plain": [
       "((2543,), (4227,))"
      ]
     },
     "execution_count": 236,
     "metadata": {},
     "output_type": "execute_result"
    }
   ],
   "source": [
    "test['userId'].unique().shape, test['movieId'].unique().shape"
   ]
  },
  {
   "cell_type": "markdown",
   "metadata": {},
   "source": [
    "# Creating URM"
   ]
  },
  {
   "cell_type": "code",
   "execution_count": 238,
   "metadata": {},
   "outputs": [],
   "source": [
    "##### Train"
   ]
  },
  {
   "cell_type": "code",
   "execution_count": 239,
   "metadata": {},
   "outputs": [],
   "source": [
    "from scipy import sparse\n",
    "from pandas.api.types import CategoricalDtype\n",
    "import gc"
   ]
  },
  {
   "cell_type": "code",
   "execution_count": 275,
   "metadata": {},
   "outputs": [],
   "source": [
    "#Create URM\n",
    "userId_c = CategoricalDtype(sorted(train.userId.unique()), ordered=True)\n",
    "movieId_c = CategoricalDtype(sorted(train.movieId.unique()), ordered=True)\n",
    "\n",
    "row = train.userId.astype(userId_c).cat.codes\n",
    "col = train.movieId.astype(movieId_c).cat.codes"
   ]
  },
  {
   "cell_type": "code",
   "execution_count": null,
   "metadata": {},
   "outputs": [],
   "source": []
  },
  {
   "cell_type": "code",
   "execution_count": 241,
   "metadata": {},
   "outputs": [],
   "source": [
    "urm_sparse = sparse.csr_matrix((train[\"rating\"], (row, col)), \\\n",
    "                           shape=(userId_c.categories.size, movieId_c.categories.size), dtype=np.float32)"
   ]
  },
  {
   "cell_type": "code",
   "execution_count": 242,
   "metadata": {},
   "outputs": [
    {
     "data": {
      "text/plain": [
       "<8481x4237 sparse matrix of type '<class 'numpy.float32'>'\n",
       "\twith 5566601 stored elements in Compressed Sparse Row format>"
      ]
     },
     "execution_count": 242,
     "metadata": {},
     "output_type": "execute_result"
    }
   ],
   "source": [
    "urm_sparse"
   ]
  },
  {
   "cell_type": "code",
   "execution_count": 243,
   "metadata": {},
   "outputs": [],
   "source": [
    "with open('urm_sparse.pkl', 'wb') as f:\n",
    "    pickle.dump(urm_sparse, f)"
   ]
  },
  {
   "cell_type": "code",
   "execution_count": null,
   "metadata": {},
   "outputs": [],
   "source": []
  },
  {
   "cell_type": "code",
   "execution_count": 244,
   "metadata": {},
   "outputs": [],
   "source": [
    "##### Test"
   ]
  },
  {
   "cell_type": "code",
   "execution_count": 276,
   "metadata": {},
   "outputs": [],
   "source": [
    "#Create URM\n",
    "row = test.userId.astype(userId_c).cat.codes\n",
    "col = test.movieId.astype(movieId_c).cat.codes"
   ]
  },
  {
   "cell_type": "code",
   "execution_count": 280,
   "metadata": {},
   "outputs": [],
   "source": [
    "urm_sparse_test = sparse.csr_matrix((test[\"rating\"], (row, col)), \\\n",
    "                           shape=(userId_c.categories.size, movieId_c.categories.size), dtype=np.float32)"
   ]
  },
  {
   "cell_type": "code",
   "execution_count": 281,
   "metadata": {},
   "outputs": [
    {
     "data": {
      "text/plain": [
       "<8481x4237 sparse matrix of type '<class 'numpy.float32'>'\n",
       "\twith 281497 stored elements in Compressed Sparse Row format>"
      ]
     },
     "execution_count": 281,
     "metadata": {},
     "output_type": "execute_result"
    }
   ],
   "source": [
    "urm_sparse_test"
   ]
  },
  {
   "cell_type": "code",
   "execution_count": 282,
   "metadata": {},
   "outputs": [],
   "source": [
    "with open('urm_sparse_test.pkl', 'wb') as f:\n",
    "    pickle.dump(urm_sparse_test, f)"
   ]
  },
  {
   "cell_type": "markdown",
   "metadata": {},
   "source": [
    "### Initializing matrix and coeffs"
   ]
  },
  {
   "cell_type": "code",
   "execution_count": 1,
   "metadata": {},
   "outputs": [
    {
     "name": "stdout",
     "output_type": "stream",
     "text": [
      "Populating the interactive namespace from numpy and matplotlib\n"
     ]
    }
   ],
   "source": [
    "import pandas as pd\n",
    "import numpy as np\n",
    "import pickle\n",
    "from scipy import sparse\n",
    "\n",
    "%pylab inline"
   ]
  },
  {
   "cell_type": "code",
   "execution_count": 57,
   "metadata": {},
   "outputs": [],
   "source": [
    "with open('urm_sparse.pkl', 'rb') as f:\n",
    "    urm_sparse = pickle.load(f)"
   ]
  },
  {
   "cell_type": "code",
   "execution_count": 58,
   "metadata": {},
   "outputs": [],
   "source": [
    "with open('urm_sparse_test.pkl', 'rb') as f:\n",
    "    urm_sparse_test = pickle.load(f)"
   ]
  },
  {
   "cell_type": "code",
   "execution_count": 59,
   "metadata": {},
   "outputs": [],
   "source": [
    "mu = 3.383421030314803"
   ]
  },
  {
   "cell_type": "code",
   "execution_count": 60,
   "metadata": {},
   "outputs": [],
   "source": [
    "indices = urm_sparse.nonzero()"
   ]
  },
  {
   "cell_type": "code",
   "execution_count": 61,
   "metadata": {},
   "outputs": [
    {
     "data": {
      "text/plain": [
       "((5566601,), (5566601,))"
      ]
     },
     "execution_count": 61,
     "metadata": {},
     "output_type": "execute_result"
    }
   ],
   "source": [
    "indices[0].shape, indices[1].shape"
   ]
  },
  {
   "cell_type": "code",
   "execution_count": 62,
   "metadata": {},
   "outputs": [
    {
     "data": {
      "text/plain": [
       "(array([   0,    0,    0, ..., 8480, 8480, 8480]),\n",
       " array([   0,    1,    2, ..., 4232, 4234, 4235]))"
      ]
     },
     "execution_count": 62,
     "metadata": {},
     "output_type": "execute_result"
    }
   ],
   "source": [
    "indices[0], indices[1]"
   ]
  },
  {
   "cell_type": "code",
   "execution_count": null,
   "metadata": {},
   "outputs": [],
   "source": []
  },
  {
   "cell_type": "markdown",
   "metadata": {},
   "source": [
    "%%time\n",
    "user_films = []\n",
    "\n",
    "for userid in np.unique(indices[0]):\n",
    "    ind_mov_ind_1 = np.where(indices[0]==userid)\n",
    "    user_films.append(indices[1][ind_mov_ind_1])"
   ]
  },
  {
   "cell_type": "markdown",
   "metadata": {},
   "source": [
    "with open('user_films.pkl', 'wb') as f:\n",
    "    pickle.dump(user_films, f)"
   ]
  },
  {
   "cell_type": "code",
   "execution_count": 64,
   "metadata": {},
   "outputs": [],
   "source": [
    "with open('user_films.pkl', 'rb') as f:\n",
    "    user_films = pickle.load(f)"
   ]
  },
  {
   "cell_type": "markdown",
   "metadata": {},
   "source": [
    "%%time\n",
    "films_users = []\n",
    "\n",
    "for movieid in np.unique(indices[1]):\n",
    "    ind_usr_ind_1 = np.where(indices[1]==movieid)\n",
    "    films_users.append(indices[0][ind_usr_ind_1])"
   ]
  },
  {
   "cell_type": "markdown",
   "metadata": {},
   "source": [
    "with open('films_users.pkl', 'wb') as f:\n",
    "    pickle.dump(films_users, f)"
   ]
  },
  {
   "cell_type": "code",
   "execution_count": 66,
   "metadata": {},
   "outputs": [],
   "source": [
    "with open('films_users.pkl', 'rb') as f:\n",
    "    films_users = pickle.load(f)"
   ]
  },
  {
   "cell_type": "code",
   "execution_count": 67,
   "metadata": {},
   "outputs": [],
   "source": [
    "#size of latent \n",
    "k = 10"
   ]
  },
  {
   "cell_type": "code",
   "execution_count": 68,
   "metadata": {},
   "outputs": [],
   "source": [
    "N = np.unique(indices[0]).shape[0]\n",
    "M = np.unique(indices[1]).shape[0]"
   ]
  },
  {
   "cell_type": "code",
   "execution_count": 69,
   "metadata": {},
   "outputs": [
    {
     "data": {
      "text/plain": [
       "(8481, 4237)"
      ]
     },
     "execution_count": 69,
     "metadata": {},
     "output_type": "execute_result"
    }
   ],
   "source": [
    "N, M"
   ]
  },
  {
   "cell_type": "code",
   "execution_count": 74,
   "metadata": {},
   "outputs": [],
   "source": [
    "w = np.random.rand(N, k)\n",
    "u = np.random.rand(k, M)"
   ]
  },
  {
   "cell_type": "code",
   "execution_count": 75,
   "metadata": {},
   "outputs": [],
   "source": [
    "b = np.zeros(N)\n",
    "c = np.zeros(M)"
   ]
  },
  {
   "cell_type": "code",
   "execution_count": 76,
   "metadata": {},
   "outputs": [],
   "source": [
    "lamb = 20"
   ]
  },
  {
   "cell_type": "code",
   "execution_count": 73,
   "metadata": {},
   "outputs": [],
   "source": [
    "from scipy.sparse.linalg import norm\n",
    "\n",
    "def get_loss(urm_sparse_st):\n",
    "    N = urm_sparse_st.nonzero()[0].shape[0]\n",
    "    \n",
    "    b_sp = sparse.csr_matrix(b.reshape(-1,1))\n",
    "    c_sp = sparse.csr_matrix(c.reshape(1,-1))\n",
    "    \n",
    "    urm_sparse_c = urm_sparse_st - sparse.csr_matrix(w.dot(u))\n",
    "    \n",
    "    urm_sparse_c.data -= mu    \n",
    "    urm_sparse_c -= (urm_sparse_c != 0).multiply(c_sp)\n",
    "    urm_sparse_c -= (urm_sparse_c != 0).multiply(b_sp)\n",
    "    #urm_sparse_c -= c_sp\n",
    "    #urm_sparse_c -= b_sp\n",
    "    urm_sparse_c = urm_sparse_c.multiply(urm_sparse_st)\n",
    "    \n",
    "    loss = norm(urm_sparse_c, ord='fro')# + lamb*(np.linalg.norm(w, ord='fro') +\\\n",
    "           # np.linalg.norm(u, ord='fro') + np.linalg.norm(c) +\\\n",
    "            #np.linalg.norm(b))\n",
    "    \n",
    "    return loss**2/N"
   ]
  },
  {
   "cell_type": "code",
   "execution_count": 77,
   "metadata": {
    "scrolled": true
   },
   "outputs": [
    {
     "name": "stdout",
     "output_type": "stream",
     "text": [
      "epoch:  0\n",
      "updated W and b: 0:00:37.211413\n",
      "updated U and c: 0:01:24.111266\n",
      "calculate cost: 0:00:14.822293\n",
      "train loss: 10.480677577559007\n",
      "test loss: 10.00980534040464\n",
      "epoch:  1\n",
      "updated W and b: 0:00:35.976953\n",
      "updated U and c: 0:01:10.586746\n",
      "calculate cost: 0:00:10.070061\n",
      "train loss: 7.615033877392266\n",
      "test loss: 7.60170223972117\n",
      "epoch:  2\n",
      "updated W and b: 0:00:29.610753\n",
      "updated U and c: 0:01:14.368048\n",
      "calculate cost: 0:00:14.357893\n",
      "train loss: 7.557167338885358\n",
      "test loss: 7.462099006195266\n",
      "epoch:  3\n",
      "updated W and b: 0:00:32.428326\n",
      "updated U and c: 0:01:00.107308\n",
      "calculate cost: 0:00:09.877880\n",
      "train loss: 7.537753138843286\n",
      "test loss: 7.336303697715944\n",
      "epoch:  4\n",
      "updated W and b: 0:00:28.318880\n"
     ]
    },
    {
     "ename": "KeyboardInterrupt",
     "evalue": "",
     "output_type": "error",
     "traceback": [
      "\u001b[1;31m---------------------------------------------------------------------------\u001b[0m",
      "\u001b[1;31mKeyboardInterrupt\u001b[0m                         Traceback (most recent call last)",
      "\u001b[1;32m<ipython-input-77-b2920bece74f>\u001b[0m in \u001b[0;36m<module>\u001b[1;34m\u001b[0m\n\u001b[0;32m     41\u001b[0m         \u001b[1;32mfor\u001b[0m \u001b[0mi\u001b[0m \u001b[1;32min\u001b[0m \u001b[0mrange\u001b[0m\u001b[1;33m(\u001b[0m\u001b[0mw_i\u001b[0m\u001b[1;33m.\u001b[0m\u001b[0mshape\u001b[0m\u001b[1;33m[\u001b[0m\u001b[1;36m0\u001b[0m\u001b[1;33m]\u001b[0m\u001b[1;33m)\u001b[0m\u001b[1;33m:\u001b[0m \u001b[1;31m#по юзерам\u001b[0m\u001b[1;33m\u001b[0m\u001b[1;33m\u001b[0m\u001b[0m\n\u001b[0;32m     42\u001b[0m             \u001b[0mvec\u001b[0m \u001b[1;33m=\u001b[0m \u001b[0mw_i\u001b[0m\u001b[1;33m[\u001b[0m\u001b[0mi\u001b[0m\u001b[1;33m,\u001b[0m\u001b[1;33m:\u001b[0m\u001b[1;33m]\u001b[0m\u001b[1;33m.\u001b[0m\u001b[0mreshape\u001b[0m\u001b[1;33m(\u001b[0m\u001b[1;33m-\u001b[0m\u001b[1;36m1\u001b[0m\u001b[1;33m,\u001b[0m\u001b[1;36m1\u001b[0m\u001b[1;33m)\u001b[0m\u001b[1;33m\u001b[0m\u001b[1;33m\u001b[0m\u001b[0m\n\u001b[1;32m---> 43\u001b[1;33m             \u001b[0msum_u\u001b[0m \u001b[1;33m+=\u001b[0m \u001b[0mvec\u001b[0m\u001b[1;33m.\u001b[0m\u001b[0mdot\u001b[0m\u001b[1;33m(\u001b[0m\u001b[0mvec\u001b[0m\u001b[1;33m.\u001b[0m\u001b[0mT\u001b[0m\u001b[1;33m)\u001b[0m\u001b[1;33m\u001b[0m\u001b[1;33m\u001b[0m\u001b[0m\n\u001b[0m\u001b[0;32m     44\u001b[0m \u001b[1;33m\u001b[0m\u001b[0m\n\u001b[0;32m     45\u001b[0m         \u001b[0msum_u\u001b[0m \u001b[1;33m+=\u001b[0m \u001b[0mlamb\u001b[0m \u001b[1;33m*\u001b[0m \u001b[0mnp\u001b[0m\u001b[1;33m.\u001b[0m\u001b[0meye\u001b[0m\u001b[1;33m(\u001b[0m\u001b[0mk\u001b[0m\u001b[1;33m)\u001b[0m\u001b[1;33m\u001b[0m\u001b[1;33m\u001b[0m\u001b[0m\n",
      "\u001b[1;31mKeyboardInterrupt\u001b[0m: "
     ]
    }
   ],
   "source": [
    "from datetime import datetime\n",
    "\n",
    "num_epochs = 5\n",
    "\n",
    "train_losses = []\n",
    "test_losses = []\n",
    "\n",
    "for ep in range(num_epochs):\n",
    "    print(\"epoch: \", ep)\n",
    "    \n",
    "    t0 = datetime.now()\n",
    "    for i in range(N): #по юзерам\n",
    "        u_i = np.take(u, axis=1, indices=user_films[i])\n",
    "        sum_u = np.zeros((k,k))\n",
    "        \n",
    "        for j in range(u_i.shape[1]): #по фильмам\n",
    "            vec = u_i[:,j].reshape(-1,1)\n",
    "            sum_u += vec.dot(vec.T)\n",
    "            \n",
    "        sum_u += lamb * np.eye(k)\n",
    "        #sum_u_inv = np.linalg.inv(sum_u) \n",
    "        \n",
    "        r_ij = np.array(urm_sparse[i].todense())[0][user_films[i]]\n",
    "        \n",
    "        c_j = c[user_films[i]].reshape(1,-1)\n",
    "        f_st = (r_ij - b[i] - c_j - mu) * u_i\n",
    "        s_nd = f_st.sum(axis=1)\n",
    "\n",
    "        b[i] = (r_ij - w[i].dot(u_i) - c_j - mu).sum(axis=1)\n",
    "        \n",
    "        w[i] = np.linalg.solve(sum_u, s_nd)\n",
    "        b[i] = b[i]/(lamb + u_i.shape[1])      \n",
    "        \n",
    "    print(\"updated W and b:\", datetime.now() - t0)    \n",
    "     \n",
    "    t0 = datetime.now()\n",
    "    for j in range(M):\n",
    "        w_i = np.take(w, axis=0, indices=films_users[j])\n",
    "        sum_w = np.zeros((k,k))\n",
    "        \n",
    "        for i in range(w_i.shape[0]): #по юзерам\n",
    "            vec = w_i[i,:].reshape(-1,1)\n",
    "            sum_u += vec.dot(vec.T)\n",
    "            \n",
    "        sum_u += lamb * np.eye(k)\n",
    "        #sum_u_inv = np.linalg.inv(sum_u) \n",
    "        \n",
    "        r_ij = np.array(urm_sparse[:,j].todense())[films_users[j]]\n",
    "        \n",
    "        b_i = b[films_users[j]].reshape(-1,1)\n",
    "        f_st = (r_ij - b_i - c[j] - mu) * w_i\n",
    "        s_nd = f_st.sum(axis=0)\n",
    "        \n",
    "        c[j] = (r_ij - w_i.dot(u[:,j]).reshape(-1,1) - b_i - mu).sum(axis=0)\n",
    "        \n",
    "        u[:,j] = np.linalg.solve(sum_u, s_nd)\n",
    "        c[j] = c[j]/(lamb + w_i.shape[0])\n",
    "        \n",
    "    print(\"updated U and c:\", datetime.now() - t0)\n",
    "    \n",
    "    t0 = datetime.now()\n",
    "    #store train loss\n",
    "    train_losses.append(get_loss(urm_sparse))\n",
    "    \n",
    "    #store test loss\n",
    "    test_losses.append(get_loss(urm_sparse_test))\n",
    "    \n",
    "    print(\"calculate cost:\", datetime.now() - t0)\n",
    "    print(\"train loss:\", train_losses[-1])\n",
    "    print(\"test loss:\", test_losses[-1])"
   ]
  },
  {
   "cell_type": "code",
   "execution_count": null,
   "metadata": {},
   "outputs": [],
   "source": [
    "# plot losses\n",
    "plt.plot(train_losses, label=\"train loss\")\n",
    "plt.plot(test_losses, label=\"test loss\")\n",
    "plt.legend()\n",
    "plt.show()"
   ]
  },
  {
   "cell_type": "code",
   "execution_count": null,
   "metadata": {},
   "outputs": [],
   "source": []
  },
  {
   "cell_type": "code",
   "execution_count": null,
   "metadata": {},
   "outputs": [],
   "source": []
  },
  {
   "cell_type": "code",
   "execution_count": null,
   "metadata": {},
   "outputs": [],
   "source": []
  },
  {
   "cell_type": "code",
   "execution_count": null,
   "metadata": {},
   "outputs": [],
   "source": []
  },
  {
   "cell_type": "code",
   "execution_count": null,
   "metadata": {},
   "outputs": [],
   "source": []
  },
  {
   "cell_type": "code",
   "execution_count": null,
   "metadata": {},
   "outputs": [],
   "source": []
  },
  {
   "cell_type": "code",
   "execution_count": null,
   "metadata": {},
   "outputs": [],
   "source": []
  }
 ],
 "metadata": {
  "kernelspec": {
   "display_name": "Python 3",
   "language": "python",
   "name": "python3"
  },
  "language_info": {
   "codemirror_mode": {
    "name": "ipython",
    "version": 3
   },
   "file_extension": ".py",
   "mimetype": "text/x-python",
   "name": "python",
   "nbconvert_exporter": "python",
   "pygments_lexer": "ipython3",
   "version": "3.7.3"
  }
 },
 "nbformat": 4,
 "nbformat_minor": 4
}
